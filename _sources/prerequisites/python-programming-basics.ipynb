{
 "cells": [
  {
   "cell_type": "markdown",
   "id": "f12d695c",
   "metadata": {},
   "source": [
    "# Python programming basics\n",
    "\n",
    "## Python syntax\n",
    "\n",
    "**Python syntax compared to other programming languages**\n",
    "\n",
    "- Python was designed for readability and has some similarities to the English language with influence from mathematics.\n",
    "- Python uses new lines to complete a command, as opposed to other programming languages which often use semicolons or parentheses.\n",
    "- Python relies on indentation, using whitespace, to define scope; such as the scope of loops, functions and classes. Other programming languages often use curly brackets for this purpose.\n",
    "\n",
    "### Python indentations\n",
    "\n",
    "While in other programming languages the indentation in code is for readability only, in Python the indentation is very important.\n",
    "\n",
    "Python uses indentation to indicate a block of code."
   ]
  },
  {
   "cell_type": "code",
   "execution_count": 1,
   "id": "c61378ac",
   "metadata": {},
   "outputs": [
    {
     "name": "stdout",
     "output_type": "stream",
     "text": [
      "Five is greater than two!\n"
     ]
    }
   ],
   "source": [
    "if 5 > 2:\n",
    "    print(\"Five is greater than two!\")"
   ]
  },
  {
   "cell_type": "markdown",
   "id": "e2bd2976",
   "metadata": {},
   "source": [
    "Python will give you an error if you skip the indentation.\n",
    "\n",
    "### Comments\n",
    "\n",
    "Python has the commenting capability for the purpose of in-code documentation. Comments start with a `#`, and Python will render the rest of the line as a comment:"
   ]
  },
  {
   "cell_type": "code",
   "execution_count": 2,
   "id": "16d68a11",
   "metadata": {},
   "outputs": [
    {
     "name": "stdout",
     "output_type": "stream",
     "text": [
      "Hello, World!\n"
     ]
    }
   ],
   "source": [
    "# This is a comment.\n",
    "print(\"Hello, World!\")"
   ]
  },
  {
   "cell_type": "markdown",
   "id": "9fa8b12d",
   "metadata": {},
   "source": [
    "### Docstrings\n",
    "\n",
    "Python also has extended documentation capability, called docstrings. Docstrings can be one line, or multiline. Docstrings are also comments. Python uses `\"\"\"` at the beginning and end of the docstring:"
   ]
  },
  {
   "cell_type": "code",
   "execution_count": 3,
   "id": "10130ec8",
   "metadata": {},
   "outputs": [
    {
     "name": "stdout",
     "output_type": "stream",
     "text": [
      "Hello, World!\n"
     ]
    }
   ],
   "source": [
    "\"\"\"This is a \n",
    "multiline docstring.\"\"\"\n",
    "print(\"Hello, World!\")"
   ]
  },
  {
   "cell_type": "markdown",
   "id": "10d2a540",
   "metadata": {},
   "source": [
    "## Variables\n",
    "\n",
    "Python is completely object-oriented, and not \"statically typed\". You do not need to declare variables before using them or declare their type. Every variable in Python is an object. Unlike other programming languages, Python has no command for declaring a variable. A variable is created the moment you first assign a value to it. A variable can have a short name (like x and y) or a more descriptive name (age, carname, total_volume). Rules for Python variables:\n",
    "\n",
    "- A variable name must start with a letter or the underscore character.\n",
    "- A variable name cannot start with a number.\n",
    "- A variable name can only contain alpha-numeric characters and underscores (A-z, 0-9, and _ ).\n",
    "- Variable names are case-sensitive (age, Age and AGE are three different variables).\n",
    "\n",
    "```{seealso}\n",
    "- https://docs.python.org/3/tutorial/introduction.html\n",
    "- https://www.w3schools.com/python/python_variables.asp\n",
    "- https://www.learnpython.org/en/Variables_and_Types\n",
    "```"
   ]
  },
  {
   "cell_type": "code",
   "execution_count": 4,
   "id": "074703e0",
   "metadata": {},
   "outputs": [],
   "source": [
    "integer_variable = 5\n",
    "string_variable = 'John'\n",
    "\n",
    "assert integer_variable == 5\n",
    "assert string_variable == 'John'"
   ]
  },
  {
   "cell_type": "markdown",
   "id": "c76f1b7a",
   "metadata": {},
   "source": [
    "## Operators\n",
    "\n",
    "Operators are used to performing operations on variables and values. Python divides the operators into the following groups:\n",
    "\n",
    "- Arithmetic operators\n",
    "- Assignment operators\n",
    "- Comparison operators\n",
    "- Logical operators\n",
    "- Identity operators\n",
    "- Membership operators\n",
    "- Bitwise operators\n",
    "\n",
    "```{seealso}\n",
    "- https://www.w3schools.com/python/python_operators.asp\n",
    "```\n",
    "\n",
    "### Arithmetic operators\n",
    "\n",
    "Arithmetic operators are used with numeric values to perform common mathematical operations."
   ]
  },
  {
   "cell_type": "code",
   "execution_count": 5,
   "id": "308ee868",
   "metadata": {},
   "outputs": [],
   "source": [
    "# Addition.\n",
    "assert 5 + 3 == 8\n",
    "\n",
    "# Subtraction.\n",
    "assert 5 - 3 == 2\n",
    "\n",
    "# Multiplication.\n",
    "assert 5 * 3 == 15\n",
    "assert isinstance(5 * 3, int)\n",
    "\n",
    "# Division.\n",
    "# Result of division is float number.\n",
    "assert 5 / 3 == 1.6666666666666667\n",
    "assert 8 / 4 == 2\n",
    "assert isinstance(5 / 3, float)\n",
    "assert isinstance(8 / 4, float)\n",
    "\n",
    "# Modulus.\n",
    "assert 5 % 3 == 2\n",
    "\n",
    "# Exponentiation.\n",
    "assert 5 ** 3 == 125\n",
    "assert 2 ** 3 == 8\n",
    "assert 2 ** 4 == 16\n",
    "assert 2 ** 5 == 32\n",
    "assert isinstance(5 ** 3, int)\n",
    "\n",
    "# Floor division.\n",
    "assert 5 // 3 == 1\n",
    "assert 6 // 3 == 2\n",
    "assert 7 // 3 == 2\n",
    "assert 9 // 3 == 3\n",
    "assert isinstance(5 // 3, int)"
   ]
  },
  {
   "cell_type": "markdown",
   "id": "7c198292",
   "metadata": {},
   "source": [
    "### Comparison operators\n",
    "\n",
    "Comparison operators are used to compare two values."
   ]
  },
  {
   "cell_type": "code",
   "execution_count": 6,
   "id": "45a01de6",
   "metadata": {},
   "outputs": [],
   "source": [
    "# Equal.\n",
    "number = 5\n",
    "assert number == 5\n",
    "\n",
    "# Not equal.\n",
    "number = 5\n",
    "assert number != 3\n",
    "\n",
    "# Greater than.\n",
    "number = 5\n",
    "assert number > 3\n",
    "\n",
    "# Less than.\n",
    "number = 5\n",
    "assert number < 8\n",
    "\n",
    "# Greater than or equal to\n",
    "number = 5\n",
    "assert number >= 5\n",
    "assert number >= 4\n",
    "\n",
    "# Less than or equal to\n",
    "number = 5\n",
    "assert number <= 5\n",
    "assert number <= 6"
   ]
  },
  {
   "cell_type": "markdown",
   "id": "55f50bcd",
   "metadata": {},
   "source": [
    "## Data types\n",
    "\n",
    "In programming, data type is an important concept. Variables can store data of different types, and different types can do different things. Python has the following data types built in by default, in these categories:\n",
    "\n",
    "Name | Type\n",
    "---------|----------\n",
    "Text Type | `str`\n",
    "Numeric Types | `int`, `float`, `complex`\n",
    "Sequence Types | `list`, `tuple`, `range`\n",
    "Mapping Type | `dict`\n",
    "Set Types | `set`, `frozenset`\n",
    "Boolean Type | `bool`\n",
    "Binary Types | `bytes`, `bytearray`, `memoryview`\n",
    "None Type | `NoneType`\n",
    "\n",
    "```{seealso}\n",
    "- https://docs.python.org/3/tutorial/introduction.html\n",
    "- https://www.w3schools.com/python/python_datatypes.asp\n",
    "```\n",
    "\n",
    "### Numbers (including booleans)\n",
    "\n",
    "There are three numeric types in Python:\n",
    "\n",
    "- `int`\n",
    "- `float`\n",
    "- `complex`\n",
    "\n",
    "```{seealso}\n",
    "- https://docs.python.org/3/tutorial/introduction.html\n",
    "- https://www.w3schools.com/python/python_numbers.asp\n",
    "```\n",
    "\n",
    "#### Integers\n",
    "\n",
    "Int, or integer, is a whole number, positive or negative, without decimals, of unlimited length."
   ]
  },
  {
   "cell_type": "code",
   "execution_count": 7,
   "id": "481fbcb4",
   "metadata": {},
   "outputs": [],
   "source": [
    "positive_integer = 1\n",
    "negative_integer = -3255522\n",
    "big_integer = 35656222554887711\n",
    "\n",
    "assert isinstance(positive_integer, int)\n",
    "assert isinstance(negative_integer, int)\n",
    "assert isinstance(big_integer, int)"
   ]
  },
  {
   "cell_type": "markdown",
   "id": "f189b8b2",
   "metadata": {},
   "source": [
    "#### Booleans\n",
    "\n",
    "Booleans represent the truth values `False` and `True`. The two objects representing the values `False` and `True` are the only Boolean objects. The Boolean type is a subtype of the integer type, and Boolean values behave like the values 0 and 1, respectively, in almost all contexts, the exception being that when converted to a string, the strings `False` or `True` are returned, respectively."
   ]
  },
  {
   "cell_type": "code",
   "execution_count": 8,
   "id": "daf78aae",
   "metadata": {},
   "outputs": [],
   "source": [
    "true_boolean = True\n",
    "false_boolean = False\n",
    "\n",
    "assert true_boolean\n",
    "assert not false_boolean\n",
    "\n",
    "assert isinstance(true_boolean, bool)\n",
    "assert isinstance(false_boolean, bool)\n",
    "\n",
    "# Let's try to cast boolean to string.\n",
    "assert str(true_boolean) == \"True\"\n",
    "assert str(false_boolean) == \"False\""
   ]
  },
  {
   "cell_type": "markdown",
   "id": "568220b9",
   "metadata": {},
   "source": [
    "#### Floats\n",
    "\n",
    "Float, or \"floating point number\" is a number, positive or negative, containing one or more decimals."
   ]
  },
  {
   "cell_type": "code",
   "execution_count": 9,
   "id": "5a8e9731",
   "metadata": {},
   "outputs": [],
   "source": [
    "float_number = 7.0\n",
    "# Another way of declaring float is using float() function.\n",
    "float_number_via_function = float(7) \n",
    "float_negative = -35.59\n",
    "\n",
    "assert float_number == float_number_via_function\n",
    "assert isinstance(float_number, float)\n",
    "assert isinstance(float_number_via_function, float)\n",
    "assert isinstance(float_negative, float)"
   ]
  },
  {
   "cell_type": "markdown",
   "id": "e6c444f5",
   "metadata": {},
   "source": [
    "Float can also be scientific numbers with an \"e\" to indicate the power of 10."
   ]
  },
  {
   "cell_type": "code",
   "execution_count": 10,
   "id": "563cad19",
   "metadata": {},
   "outputs": [],
   "source": [
    "float_with_small_e = 35e3\n",
    "float_with_big_e = 12E4\n",
    "\n",
    "assert float_with_small_e == 35000\n",
    "assert float_with_big_e == 120000\n",
    "assert isinstance(12E4, float)\n",
    "assert isinstance(-87.7e100, float)"
   ]
  },
  {
   "cell_type": "markdown",
   "id": "af63b78e",
   "metadata": {},
   "source": [
    "#### Complexes\n",
    "\n",
    "A complex number has two parts, a real part and an imaginary part. Complex numbers are represented as A+Bi or A+Bj, where A is the real part and B is the imaginary part."
   ]
  },
  {
   "cell_type": "code",
   "execution_count": 11,
   "id": "2bbb7e98",
   "metadata": {},
   "outputs": [],
   "source": [
    "complex_number_1 = 5 + 6j\n",
    "complex_number_2 = 3 - 2j\n",
    "\n",
    "assert isinstance(complex_number_1, complex)\n",
    "assert isinstance(complex_number_2, complex)\n",
    "assert complex_number_1 * complex_number_2 == 27 + 8j"
   ]
  },
  {
   "cell_type": "markdown",
   "id": "d586e0ea",
   "metadata": {},
   "source": [
    "#### Number operation"
   ]
  },
  {
   "cell_type": "code",
   "execution_count": 12,
   "id": "e46480b9",
   "metadata": {},
   "outputs": [],
   "source": [
    "# Addition.\n",
    "assert 2 + 4 == 6\n",
    "\n",
    "# Multiplication.\n",
    "assert 2 * 4 == 8\n",
    "\n",
    "# Division always returns a floating point number.\n",
    "assert 12 / 3 == 4.0\n",
    "assert 12 / 5 == 2.4\n",
    "assert 17 / 3 == 5.666666666666667\n",
    "\n",
    "# Modulo operator returns the remainder of the division.\n",
    "assert 12 % 3 == 0\n",
    "assert 13 % 3 == 1\n",
    "\n",
    "# Floor division discards the fractional part.\n",
    "assert 17 // 3 == 5\n",
    "\n",
    "# Raising the number to specific power.\n",
    "assert 5 ** 2 == 25  # 5 squared\n",
    "assert 2 ** 7 == 128  # 2 to the power of 7\n",
    "\n",
    "# There is full support for floating point; operators with mixed type operands convert the integer operand to floating point.\n",
    "assert 4 * 3.75 - 1 == 14.0"
   ]
  },
  {
   "cell_type": "markdown",
   "id": "7890f8db",
   "metadata": {},
   "source": [
    "### Strings and their methods\n",
    "\n",
    "Besides numbers, Python can also manipulate strings, which can be expressed in several ways. They can be enclosed in single quotes `''` or double quotes `\"\"` with the same result.\n",
    "\n",
    "```{seealso}\n",
    "- https://docs.python.org/3/tutorial/introduction.html\n",
    "- https://www.w3schools.com/python/python_strings.asp\n",
    "- https://www.w3schools.com/python/python_ref_string.asp\n",
    "```"
   ]
  },
  {
   "cell_type": "code",
   "execution_count": 13,
   "id": "b4c69cdd",
   "metadata": {},
   "outputs": [],
   "source": [
    "# String with double quotes.\n",
    "name_1 = \"John\"\n",
    "\n",
    "# String with single quotes.\n",
    "name_2 = 'John'\n",
    "\n",
    "assert name_1 == name_2\n",
    "assert isinstance(name_1, str)\n",
    "assert isinstance(name_2, str)"
   ]
  },
  {
   "cell_type": "markdown",
   "id": "32977ee5",
   "metadata": {},
   "source": [
    "#### String type\n",
    "\n",
    "`\\` can be used to escape quotes. Use `\\'` to escape the single quote or use double quotes instead."
   ]
  },
  {
   "cell_type": "code",
   "execution_count": 14,
   "id": "21ad7b52",
   "metadata": {},
   "outputs": [],
   "source": [
    "single_quote_string = 'doesn\\'t'\n",
    "double_quote_string = \"doesn't\"\n",
    "\n",
    "assert single_quote_string == double_quote_string"
   ]
  },
  {
   "cell_type": "markdown",
   "id": "e14925e5",
   "metadata": {},
   "source": [
    "`\\n` means newline."
   ]
  },
  {
   "cell_type": "code",
   "execution_count": 15,
   "id": "77887a87",
   "metadata": {},
   "outputs": [],
   "source": [
    "multiline_string = 'First line.\\nSecond line.'"
   ]
  },
  {
   "cell_type": "markdown",
   "id": "66af8503",
   "metadata": {},
   "source": [
    "Without `print()`, `\\n` is included in the output. But with `print()`, `\\n` produces a new line."
   ]
  },
  {
   "cell_type": "code",
   "execution_count": 16,
   "id": "96a2b88d",
   "metadata": {},
   "outputs": [],
   "source": [
    "assert multiline_string == 'First line.\\nSecond line.'"
   ]
  },
  {
   "cell_type": "markdown",
   "id": "95dbca0d",
   "metadata": {},
   "source": [
    "Strings can be indexed, with the first character having index 0. There is no separate character type; a character is simply a string of size one. Note that since -0 is the same as 0, negative indices start from -1."
   ]
  },
  {
   "cell_type": "code",
   "execution_count": 17,
   "id": "9c4c2c2e",
   "metadata": {},
   "outputs": [],
   "source": [
    "import pytest\n",
    "word = 'Python'\n",
    "assert word[0] == 'P'  # First character.\n",
    "assert word[5] == 'n'  # Fifth character.\n",
    "assert word[-1] == 'n'  # Last character.\n",
    "assert word[-2] == 'o'  # Second-last character.\n",
    "assert word[-6] == 'P'  # Sixth from the end or zeroth from the beginning.\n",
    "\n",
    "assert isinstance(word[0], str)"
   ]
  },
  {
   "cell_type": "markdown",
   "id": "f0ee145c",
   "metadata": {},
   "source": [
    "In addition to indexing, slicing is also supported. While indexing is used to obtain individual characters, slicing allows you to obtain substring."
   ]
  },
  {
   "cell_type": "code",
   "execution_count": 18,
   "id": "0c67b26f",
   "metadata": {},
   "outputs": [],
   "source": [
    "assert word[0:2] == 'Py'  # Characters from position 0 (included) to 2 (excluded).\n",
    "assert word[2:5] == 'tho'  # Characters from position 2 (included) to 5 (excluded)."
   ]
  },
  {
   "cell_type": "markdown",
   "id": "ae96fc24",
   "metadata": {},
   "source": [
    "Note how the start is always included, and the end is always excluded. This makes sure that `s[:i] + s[i:]` is always equal to `s`:"
   ]
  },
  {
   "cell_type": "code",
   "execution_count": 19,
   "id": "3f1d5ea7",
   "metadata": {},
   "outputs": [],
   "source": [
    "assert word[:2] + word[2:] == 'Python'\n",
    "assert word[:4] + word[4:] == 'Python'"
   ]
  },
  {
   "cell_type": "markdown",
   "id": "04776d99",
   "metadata": {},
   "source": [
    "Slice indices have useful defaults; an omitted first index defaults to zero, and an omitted second index defaults to the size of the string being sliced."
   ]
  },
  {
   "cell_type": "code",
   "execution_count": 20,
   "id": "04976a0e",
   "metadata": {},
   "outputs": [],
   "source": [
    "assert word[:2] == 'Py'  # Character from the beginning to position 2 (excluded).\n",
    "assert word[4:] == 'on'  # Characters from position 4 (included) to the end.\n",
    "assert word[-2:] == 'on'  # Characters from the second-last (included) to the end."
   ]
  },
  {
   "cell_type": "markdown",
   "id": "00e60850",
   "metadata": {},
   "source": [
    "One way to remember how slices work is to think of the indices as pointing between characters, with the left edge of the first character numbered 0. Then the right edge of the last character of a string of `n` characters has index `n`, for example:\n",
    "\n",
    " \n",
    "|   | P |   | y |   | t |   | h |   | o |   | n |   |\n",
    "|:-:|:-:|:-:|:-:|:-:|:-:|:-:|:-:|:-:|:-:|:-:|:-:|:-:|\n",
    "|  0|   |  1|   |  2|   |  3|   |  4|   |  5|   |  6|\n",
    "| -6|   | -5|   | -4|   | -3|   | -2|   | -1|   \n",
    "\n",
    "Attempting to use an index that is too large will result in an error."
   ]
  },
  {
   "cell_type": "code",
   "execution_count": 21,
   "id": "b33dffe1",
   "metadata": {},
   "outputs": [],
   "source": [
    "with pytest.raises(Exception):\n",
    "    not_existing_character = word[42]\n",
    "    assert not not_existing_character"
   ]
  },
  {
   "cell_type": "markdown",
   "id": "9ee9eecf",
   "metadata": {},
   "source": [
    "However, out-of-range slice indexes are handled gracefully when used for slicing."
   ]
  },
  {
   "cell_type": "code",
   "execution_count": 22,
   "id": "394af448",
   "metadata": {},
   "outputs": [],
   "source": [
    "assert word[4:42] == 'on'\n",
    "assert word[42:] == ''"
   ]
  },
  {
   "cell_type": "markdown",
   "id": "371cfad1",
   "metadata": {},
   "source": [
    "Python strings cannot be changed — they are immutable. Therefore, assigning to an indexed position in the string results in an error:"
   ]
  },
  {
   "cell_type": "code",
   "execution_count": 23,
   "id": "ec6644c5",
   "metadata": {},
   "outputs": [],
   "source": [
    "with pytest.raises(Exception):\n",
    "    # pylint: disable=unsupported-assignment-operation\n",
    "    word[0] = 'J'"
   ]
  },
  {
   "cell_type": "markdown",
   "id": "9654d67c",
   "metadata": {},
   "source": [
    "If you need a different string, you should create a new one."
   ]
  },
  {
   "cell_type": "code",
   "execution_count": 24,
   "id": "398eb591",
   "metadata": {},
   "outputs": [],
   "source": [
    "assert 'J' + word[1:] == 'Jython'\n",
    "assert word[:2] + 'py' == 'Pypy'"
   ]
  },
  {
   "cell_type": "markdown",
   "id": "f1e1ac71",
   "metadata": {},
   "source": [
    "The built-in function `len()` returns the length of a string."
   ]
  },
  {
   "cell_type": "code",
   "execution_count": 25,
   "id": "554ff935",
   "metadata": {},
   "outputs": [],
   "source": [
    "characters = 'supercalifragilisticexpialidocious'\n",
    "assert len(characters) == 34"
   ]
  },
  {
   "cell_type": "markdown",
   "id": "b79b3c6a",
   "metadata": {},
   "source": [
    "String literals can span multiple lines. One way is using triple-quotes: `\"\"\"...\"\"\"` or `'''...'''`. The end of lines are automatically included in the string, but it’s possible to prevent this by adding a `\\` at the end of the line. The following example:"
   ]
  },
  {
   "cell_type": "code",
   "execution_count": 26,
   "id": "a257489c",
   "metadata": {},
   "outputs": [],
   "source": [
    "multi_line_string = '''\\\n",
    "    First line\n",
    "    Second line\n",
    "'''\n",
    "\n",
    "assert multi_line_string == '''\\\n",
    "    First line\n",
    "    Second line\n",
    "'''"
   ]
  },
  {
   "cell_type": "markdown",
   "id": "13fa41cf",
   "metadata": {},
   "source": [
    "#### String operations\n",
    "\n",
    "Strings can be concatenated (glued together) with the `+` operator, and repeated with `*`."
   ]
  },
  {
   "cell_type": "code",
   "execution_count": 27,
   "id": "39e55f9f",
   "metadata": {},
   "outputs": [],
   "source": [
    "assert 3 * 'un' + 'ium' == 'unununium'\n",
    "\n",
    "python = 'Py' 'thon'\n",
    "assert python == 'Python'"
   ]
  },
  {
   "cell_type": "markdown",
   "id": "bd5effff",
   "metadata": {},
   "source": [
    "This feature is particularly useful when you want to break long strings:"
   ]
  },
  {
   "cell_type": "code",
   "execution_count": 28,
   "id": "562efc62",
   "metadata": {},
   "outputs": [],
   "source": [
    "text = (\n",
    "    'Put several strings within parentheses '\n",
    "    'to have them joined together.'\n",
    ")\n",
    "assert text == 'Put several strings within parentheses to have them joined together.'"
   ]
  },
  {
   "cell_type": "markdown",
   "id": "da37c9d9",
   "metadata": {},
   "source": [
    "If you want to concatenate variables or a variable and a literal, use `+`:"
   ]
  },
  {
   "cell_type": "code",
   "execution_count": 29,
   "id": "cb4570e3",
   "metadata": {},
   "outputs": [],
   "source": [
    "prefix = 'Py'\n",
    "assert prefix + 'thon' == 'Python'"
   ]
  },
  {
   "cell_type": "markdown",
   "id": "bed02237",
   "metadata": {},
   "source": [
    "#### String methods"
   ]
  },
  {
   "cell_type": "code",
   "execution_count": 30,
   "id": "c9697661",
   "metadata": {},
   "outputs": [],
   "source": [
    "hello_world_string = \"Hello, World!\""
   ]
  },
  {
   "cell_type": "markdown",
   "id": "b3b13dca",
   "metadata": {},
   "source": [
    "The `strip()` method removes any whitespace from the beginning or the end."
   ]
  },
  {
   "cell_type": "code",
   "execution_count": 31,
   "id": "2ca82619",
   "metadata": {},
   "outputs": [],
   "source": [
    "string_with_whitespaces = \" Hello, World! \"\n",
    "assert string_with_whitespaces.strip() == \"Hello, World!\""
   ]
  },
  {
   "cell_type": "markdown",
   "id": "ecd95bc1",
   "metadata": {},
   "source": [
    "The `len()` method returns the length of a string."
   ]
  },
  {
   "cell_type": "code",
   "execution_count": 32,
   "id": "0c7a97c3",
   "metadata": {},
   "outputs": [],
   "source": [
    "assert len(hello_world_string) == 13"
   ]
  },
  {
   "cell_type": "markdown",
   "id": "b0e19bd1",
   "metadata": {},
   "source": [
    "The `lower()` method returns the string in lowercase."
   ]
  },
  {
   "cell_type": "code",
   "execution_count": 33,
   "id": "9220208d",
   "metadata": {},
   "outputs": [],
   "source": [
    "assert hello_world_string.lower() == 'hello, world!'"
   ]
  },
  {
   "cell_type": "markdown",
   "id": "3a60b39c",
   "metadata": {},
   "source": [
    "The `upper()` method returns the string in the upper case."
   ]
  },
  {
   "cell_type": "code",
   "execution_count": 34,
   "id": "e9ddcb75",
   "metadata": {},
   "outputs": [],
   "source": [
    "assert hello_world_string.upper() == 'HELLO, WORLD!'"
   ]
  },
  {
   "cell_type": "markdown",
   "id": "68770f74",
   "metadata": {},
   "source": [
    "The `replace()` method replaces a string with another string."
   ]
  },
  {
   "cell_type": "code",
   "execution_count": 35,
   "id": "a9cd1391",
   "metadata": {},
   "outputs": [],
   "source": [
    "assert hello_world_string.replace('H', 'J') == 'Jello, World!'"
   ]
  },
  {
   "cell_type": "markdown",
   "id": "8fbefdcc",
   "metadata": {},
   "source": [
    "The `split()` method splits the string into substrings if it finds instances of the separator."
   ]
  },
  {
   "cell_type": "code",
   "execution_count": 36,
   "id": "141105f1",
   "metadata": {},
   "outputs": [],
   "source": [
    "assert hello_world_string.split(',') == ['Hello', ' World!']"
   ]
  },
  {
   "cell_type": "markdown",
   "id": "444e2294",
   "metadata": {},
   "source": [
    "The `capitalize()` method converts the first character to upper case."
   ]
  },
  {
   "cell_type": "code",
   "execution_count": 37,
   "id": "cf70f26b",
   "metadata": {},
   "outputs": [],
   "source": [
    "assert 'low letter at the beginning'.capitalize() == 'Low letter at the beginning'"
   ]
  },
  {
   "cell_type": "markdown",
   "id": "34a39e49",
   "metadata": {},
   "source": [
    "The `count()` method returns the number of times a specified value occurs in a string."
   ]
  },
  {
   "cell_type": "code",
   "execution_count": 38,
   "id": "1d04ce68",
   "metadata": {},
   "outputs": [],
   "source": [
    "assert 'low letter at the beginning'.count('t') == 4"
   ]
  },
  {
   "cell_type": "markdown",
   "id": "c2f9d08d",
   "metadata": {},
   "source": [
    "The `find()` method searches the string for a specified value and returns the position of where it was found."
   ]
  },
  {
   "cell_type": "code",
   "execution_count": 39,
   "id": "4ca28fcc",
   "metadata": {},
   "outputs": [],
   "source": [
    "assert 'Hello, welcome to my world'.find('welcome') == 7"
   ]
  },
  {
   "cell_type": "markdown",
   "id": "c0935c2e",
   "metadata": {},
   "source": [
    "The `title()` method converts the first character of each word to upper case."
   ]
  },
  {
   "cell_type": "code",
   "execution_count": 40,
   "id": "f2a8f4fe",
   "metadata": {},
   "outputs": [],
   "source": [
    "assert 'Welcome to my world'.title() == 'Welcome To My World'"
   ]
  },
  {
   "cell_type": "markdown",
   "id": "9411a573",
   "metadata": {},
   "source": [
    "The `replace()` method returns a string where a specified value is replaced with a specified value."
   ]
  },
  {
   "cell_type": "code",
   "execution_count": 41,
   "id": "9cbd03e3",
   "metadata": {},
   "outputs": [],
   "source": [
    "assert 'I like bananas'.replace('bananas', 'apples') == 'I like apples'"
   ]
  },
  {
   "cell_type": "markdown",
   "id": "415f7136",
   "metadata": {},
   "source": [
    "The `join()` method joins the elements of an iterable to the end of the string."
   ]
  },
  {
   "cell_type": "code",
   "execution_count": 42,
   "id": "1fa8908d",
   "metadata": {},
   "outputs": [],
   "source": [
    "my_tuple = ('John', 'Peter', 'Vicky')\n",
    "assert '-'.join(my_tuple) == 'John-Peter-Vicky'"
   ]
  },
  {
   "cell_type": "markdown",
   "id": "6bf9c358",
   "metadata": {},
   "source": [
    "The `isupper()` method returns True if all characters in the string are upper case."
   ]
  },
  {
   "cell_type": "code",
   "execution_count": 43,
   "id": "d58f99b0",
   "metadata": {},
   "outputs": [],
   "source": [
    "assert 'ABC'.isupper()\n",
    "assert not 'AbC'.isupper()"
   ]
  },
  {
   "cell_type": "markdown",
   "id": "63381dc2",
   "metadata": {},
   "source": [
    "The `isalpha()` method checks if all the characters in the text are letters."
   ]
  },
  {
   "cell_type": "code",
   "execution_count": 44,
   "id": "4e1e5a7d",
   "metadata": {},
   "outputs": [],
   "source": [
    "assert 'CompanyX'.isalpha()\n",
    "assert not 'Company 23'.isalpha()"
   ]
  },
  {
   "cell_type": "markdown",
   "id": "7e0a811e",
   "metadata": {},
   "source": [
    "The `isdecimal()` method returns True if all characters in the string are decimals."
   ]
  },
  {
   "cell_type": "code",
   "execution_count": 45,
   "id": "2e68d2fe",
   "metadata": {},
   "outputs": [],
   "source": [
    "assert '1234'.isdecimal()\n",
    "assert not 'a21453'.isdecimal()"
   ]
  },
  {
   "cell_type": "markdown",
   "id": "9f57f99b",
   "metadata": {},
   "source": [
    "#### String formatting\n",
    "\n",
    "Often you’ll want more control over the formatting of your output than simply printing space-separated values. There are several ways to format output.\n",
    "\n",
    "##### Formatted string literals\n",
    "\n",
    "Formatted string literals (also called f-strings for short) let you include the value of Python expressions inside a string by prefixing the string with `f` or `F` and writing expressions as `{expression}`.\n",
    "\n",
    "An optional format specifier can follow the expression. This allows greater control over how the value is formatted. The following example rounds pi to three places after the decimal."
   ]
  },
  {
   "cell_type": "code",
   "execution_count": 46,
   "id": "aa97fb5d",
   "metadata": {},
   "outputs": [],
   "source": [
    "pi_value = 3.14159\n",
    "assert f'The value of pi is {pi_value:.3f}.' == 'The value of pi is 3.142.'"
   ]
  },
  {
   "cell_type": "markdown",
   "id": "f14d91f4",
   "metadata": {},
   "source": [
    "Passing an integer after the `:` will cause that field to be a minimum number of characters wide. This is useful for making columns line up."
   ]
  },
  {
   "cell_type": "code",
   "execution_count": 47,
   "id": "901077d8",
   "metadata": {},
   "outputs": [],
   "source": [
    "table_data = {'Sjoerd': 4127, 'Jack': 4098, 'Dcab': 7678}\n",
    "table_string = ''\n",
    "for name, phone in table_data.items():\n",
    "    table_string += f'{name:7}==>{phone:7d}'\n",
    "\n",
    "assert table_string == ('Sjoerd ==>   4127'\n",
    "                        'Jack   ==>   4098'\n",
    "                        'Dcab   ==>   7678')"
   ]
  },
  {
   "cell_type": "markdown",
   "id": "8a951eca",
   "metadata": {},
   "source": [
    "##### The string format() method\n",
    "\n",
    "Basic usage of the `str.format()` method looks like this:"
   ]
  },
  {
   "cell_type": "code",
   "execution_count": 48,
   "id": "19e86ed2",
   "metadata": {},
   "outputs": [],
   "source": [
    "assert 'We are {} who say \"{}!\"'.format('knights', 'Ni') == 'We are knights who say \"Ni!\"'"
   ]
  },
  {
   "cell_type": "markdown",
   "id": "edb427d8",
   "metadata": {},
   "source": [
    "The brackets and characters within them (called format fields) are replaced with the objects passed into the `str.format()` method. A number in the brackets can be used to refer to the position of the object passed into the `str.format()` method."
   ]
  },
  {
   "cell_type": "code",
   "execution_count": 49,
   "id": "b01cf2b5",
   "metadata": {},
   "outputs": [],
   "source": [
    "assert '{0} and {1}'.format('spam', 'eggs') == 'spam and eggs'\n",
    "assert '{1} and {0}'.format('spam', 'eggs') == 'eggs and spam'"
   ]
  },
  {
   "cell_type": "markdown",
   "id": "da1c0a3d",
   "metadata": {},
   "source": [
    "If keyword arguments are used in the `str.format()` method, their values are referred to by using the name of the argument."
   ]
  },
  {
   "cell_type": "code",
   "execution_count": 50,
   "id": "343293f7",
   "metadata": {},
   "outputs": [],
   "source": [
    "formatted_string = 'This {food} is {adjective}.'.format(\n",
    "    food='spam',\n",
    "    adjective='absolutely horrible'\n",
    ")\n",
    "\n",
    "assert formatted_string == 'This spam is absolutely horrible.'"
   ]
  },
  {
   "cell_type": "markdown",
   "id": "c08ba624",
   "metadata": {},
   "source": [
    "Positional and keyword arguments can be arbitrarily combined."
   ]
  },
  {
   "cell_type": "code",
   "execution_count": 51,
   "id": "59ffa407",
   "metadata": {},
   "outputs": [],
   "source": [
    "formatted_string = 'The story of {0}, {1}, and {other}.'.format(\n",
    "    'Bill',\n",
    "    'Manfred',\n",
    "    other='Georg'\n",
    ")\n",
    "\n",
    "assert formatted_string == 'The story of Bill, Manfred, and Georg.'"
   ]
  },
  {
   "cell_type": "markdown",
   "id": "366bcf94",
   "metadata": {},
   "source": [
    "If you have a really long format string that you don’t want to split up, it would be nice if you could reference the variables to be formatted by name instead of by position. This can be done by simply passing the dict and using square brackets `[]` to access the keys."
   ]
  },
  {
   "cell_type": "code",
   "execution_count": 52,
   "id": "f82b422d",
   "metadata": {},
   "outputs": [],
   "source": [
    "table = {'Sjoerd': 4127, 'Jack': 4098, 'Dcab': 8637678}\n",
    "formatted_string = 'Jack: {0[Jack]:d}; Sjoerd: {0[Sjoerd]:d}; Dcab: {0[Dcab]:d}'.format(table)\n",
    "\n",
    "assert formatted_string == 'Jack: 4098; Sjoerd: 4127; Dcab: 8637678'"
   ]
  },
  {
   "cell_type": "markdown",
   "id": "0030fdbc",
   "metadata": {},
   "source": [
    "This could also be done by passing the table as keyword arguments with the `**` notation."
   ]
  },
  {
   "cell_type": "code",
   "execution_count": 53,
   "id": "1461a144",
   "metadata": {},
   "outputs": [],
   "source": [
    "formatted_string = 'Jack: {Jack:d}; Sjoerd: {Sjoerd:d}; Dcab: {Dcab:d}'.format(**table)\n",
    "\n",
    "assert formatted_string == 'Jack: 4098; Sjoerd: 4127; Dcab: 8637678'"
   ]
  },
  {
   "cell_type": "markdown",
   "id": "99317af3",
   "metadata": {},
   "source": [
    "### Lists and their methods (including list comprehensions)\n",
    "\n",
    "Python knows several compound data types, used to group together other values. The most versatile is the list, which can be written as a list of comma-separated values (items) between square brackets. Lists might contain items of different types, but usually, the items all have the same type.\n",
    "\n",
    "```{seealso}\n",
    "- https://www.learnpython.org/en/Lists\n",
    "- https://docs.python.org/3/tutorial/introduction.html\n",
    "- https://docs.python.org/3/tutorial/datastructures.html#more-on-lists\n",
    "```\n",
    "\n",
    "#### List type\n",
    "\n",
    "Lists are very similar to arrays. They can contain any type of variable, and they can contain as many variables as you wish. Lists can also be iterated over in a very simple manner.\n",
    "\n",
    "Here is an example of how to build a list."
   ]
  },
  {
   "cell_type": "code",
   "execution_count": 54,
   "id": "93d21e4b",
   "metadata": {},
   "outputs": [],
   "source": [
    "squares = [1, 4, 9, 16, 25]\n",
    "\n",
    "assert isinstance(squares, list)"
   ]
  },
  {
   "cell_type": "markdown",
   "id": "b377a9e6",
   "metadata": {},
   "source": [
    "Like strings (and all other built-in sequence types), lists can be indexed and sliced:"
   ]
  },
  {
   "cell_type": "code",
   "execution_count": 55,
   "id": "05856c9c",
   "metadata": {},
   "outputs": [],
   "source": [
    "assert squares[0] == 1  # indexing returns the item\n",
    "assert squares[-1] == 25\n",
    "assert squares[-3:] == [9, 16, 25]  # slicing returns a new list"
   ]
  },
  {
   "cell_type": "markdown",
   "id": "fd249f45",
   "metadata": {},
   "source": [
    "All slice operations return a new list containing the requested elements.\n",
    "This means that the following slice returns a new (shallow) copy of the list:"
   ]
  },
  {
   "cell_type": "code",
   "execution_count": 56,
   "id": "e2919b45",
   "metadata": {},
   "outputs": [],
   "source": [
    "assert squares[:] == [1, 4, 9, 16, 25]"
   ]
  },
  {
   "cell_type": "markdown",
   "id": "1ba57ca3",
   "metadata": {},
   "source": [
    "Lists also support operations like concatenation:"
   ]
  },
  {
   "cell_type": "code",
   "execution_count": 57,
   "id": "008fb51b",
   "metadata": {},
   "outputs": [],
   "source": [
    "assert squares + [36, 49, 64, 81, 100] == [1, 4, 9, 16, 25, 36, 49, 64, 81, 100]"
   ]
  },
  {
   "cell_type": "markdown",
   "id": "2410ac6d",
   "metadata": {},
   "source": [
    "Unlike strings, which are immutable, lists are a mutable type, i.e. it is possible to change their content:"
   ]
  },
  {
   "cell_type": "code",
   "execution_count": 58,
   "id": "148685c2",
   "metadata": {},
   "outputs": [],
   "source": [
    "cubes = [1, 8, 27, 65, 125]  # something's wrong here, the cube of 4 is 64!\n",
    "cubes[3] = 64  # replace the wrong value\n",
    "assert cubes == [1, 8, 27, 64, 125]"
   ]
  },
  {
   "cell_type": "markdown",
   "id": "b0f4b755",
   "metadata": {},
   "source": [
    "You can also add new items at the end of the list, by using the `append()` method."
   ]
  },
  {
   "cell_type": "code",
   "execution_count": 59,
   "id": "915e1b96",
   "metadata": {},
   "outputs": [],
   "source": [
    "cubes.append(216)  # add the cube of 6\n",
    "cubes.append(7 ** 3)  # and the cube of 7\n",
    "assert cubes == [1, 8, 27, 64, 125, 216, 343]"
   ]
  },
  {
   "cell_type": "markdown",
   "id": "490e084b",
   "metadata": {},
   "source": [
    "Assignment to slices is also possible, and this can even change the size of the list or clear it entirely:"
   ]
  },
  {
   "cell_type": "code",
   "execution_count": 60,
   "id": "0c327dcf",
   "metadata": {},
   "outputs": [],
   "source": [
    "letters = ['a', 'b', 'c', 'd', 'e', 'f', 'g']\n",
    "letters[2:5] = ['C', 'D', 'E']  # replace some values\n",
    "assert letters == ['a', 'b', 'C', 'D', 'E', 'f', 'g']\n",
    "letters[2:5] = []  # now remove them\n",
    "assert letters == ['a', 'b', 'f', 'g']"
   ]
  },
  {
   "cell_type": "markdown",
   "id": "ad5bed1f",
   "metadata": {},
   "source": [
    "Clear the list by replacing all the elements with an empty list."
   ]
  },
  {
   "cell_type": "code",
   "execution_count": 61,
   "id": "be61b423",
   "metadata": {},
   "outputs": [],
   "source": [
    "letters[:] = []\n",
    "assert letters == []"
   ]
  },
  {
   "cell_type": "markdown",
   "id": "5d323fdf",
   "metadata": {},
   "source": [
    "The built-in function `len()` also applies to lists."
   ]
  },
  {
   "cell_type": "code",
   "execution_count": 62,
   "id": "98242025",
   "metadata": {},
   "outputs": [],
   "source": [
    "letters = ['a', 'b', 'c', 'd']\n",
    "assert len(letters) == 4"
   ]
  },
  {
   "cell_type": "markdown",
   "id": "6212a9cf",
   "metadata": {},
   "source": [
    "It is possible to nest lists (create lists containing other lists), for example:"
   ]
  },
  {
   "cell_type": "code",
   "execution_count": 63,
   "id": "d3cf1408",
   "metadata": {},
   "outputs": [],
   "source": [
    "list_of_chars = ['a', 'b', 'c']\n",
    "list_of_numbers = [1, 2, 3]\n",
    "mixed_list = [list_of_chars, list_of_numbers]\n",
    "assert mixed_list == [['a', 'b', 'c'], [1, 2, 3]]\n",
    "assert mixed_list[0] == ['a', 'b', 'c']\n",
    "assert mixed_list[0][1] == 'b'"
   ]
  },
  {
   "cell_type": "markdown",
   "id": "9f29304f",
   "metadata": {},
   "source": [
    "#### List methods"
   ]
  },
  {
   "cell_type": "code",
   "execution_count": 64,
   "id": "8b4e0118",
   "metadata": {},
   "outputs": [],
   "source": [
    "import pytest\n",
    "\n",
    "fruits = ['orange', 'apple', 'pear', 'banana', 'kiwi', 'apple', 'banana', 'grape']"
   ]
  },
  {
   "cell_type": "markdown",
   "id": "1ecb42a4",
   "metadata": {},
   "source": [
    "`list.remove(x)` removes the first item from the list whose value is equal to x. It raises a `ValueError` if there is no such item."
   ]
  },
  {
   "cell_type": "code",
   "execution_count": 65,
   "id": "5981548d",
   "metadata": {},
   "outputs": [],
   "source": [
    "fruits.remove('grape')\n",
    "assert fruits == ['orange', 'apple', 'pear', 'banana', 'kiwi', 'apple', 'banana']\n",
    "\n",
    "with pytest.raises(Exception):\n",
    "    fruits.remove('not existing element')"
   ]
  },
  {
   "cell_type": "markdown",
   "id": "f7e5090e",
   "metadata": {},
   "source": [
    "`list.insert(i, x)` inserts an item at a given position. The first argument is the index of the element before which to insert, so `a.insert(0, x)` inserts at the front of the list, and `a.insert(len(a), x)` is equivalent to `a.append(x)`."
   ]
  },
  {
   "cell_type": "code",
   "execution_count": 66,
   "id": "ade547df",
   "metadata": {},
   "outputs": [],
   "source": [
    "fruits.insert(0, 'grape')\n",
    "assert fruits == ['grape', 'orange', 'apple', 'pear', 'banana', 'kiwi', 'apple', 'banana']"
   ]
  },
  {
   "cell_type": "markdown",
   "id": "3cd7b97c",
   "metadata": {},
   "source": [
    "`list.index(x[, start[, end]])` returns a zero-based index in the list of the first item whose value is equal to x. Raises a ValueError if there is no such item. The optional arguments start and end are interpreted as in the slice notation and are used to limit the search to a particular subsequence of the list. The returned index is computed relative to the beginning of the full sequence rather than the start argument."
   ]
  },
  {
   "cell_type": "code",
   "execution_count": 67,
   "id": "e177dfaa",
   "metadata": {},
   "outputs": [],
   "source": [
    "assert fruits.index('grape') == 0\n",
    "assert fruits.index('orange') == 1\n",
    "assert fruits.index('banana') == 4\n",
    "assert fruits.index('banana', 5) == 7  # Find next banana starting a position 5\n",
    "\n",
    "with pytest.raises(Exception):\n",
    "    fruits.index('not existing element')"
   ]
  },
  {
   "cell_type": "markdown",
   "id": "19dd9235",
   "metadata": {},
   "source": [
    "`list.count(x)` returns the number of times x appears in the list."
   ]
  },
  {
   "cell_type": "code",
   "execution_count": 68,
   "id": "fa23e9e6",
   "metadata": {},
   "outputs": [],
   "source": [
    "assert fruits.count('tangerine') == 0\n",
    "assert fruits.count('banana') == 2"
   ]
  },
  {
   "cell_type": "markdown",
   "id": "e7c34c05",
   "metadata": {},
   "source": [
    "`list.copy()` returns a shallow copy of the list. Equivalent to `a[:]`."
   ]
  },
  {
   "cell_type": "code",
   "execution_count": 69,
   "id": "96eae026",
   "metadata": {},
   "outputs": [],
   "source": [
    "fruits_copy = fruits.copy()\n",
    "assert fruits_copy == ['grape', 'orange', 'apple', 'pear', 'banana', 'kiwi', 'apple', 'banana']"
   ]
  },
  {
   "cell_type": "markdown",
   "id": "6f576943",
   "metadata": {},
   "source": [
    "`list.reverse()` reverses the elements of the list in place."
   ]
  },
  {
   "cell_type": "code",
   "execution_count": 70,
   "id": "8bba93f7",
   "metadata": {},
   "outputs": [],
   "source": [
    "fruits_copy.reverse()\n",
    "assert fruits_copy == [\n",
    "    'banana',\n",
    "    'apple',\n",
    "    'kiwi',\n",
    "    'banana',\n",
    "    'pear',\n",
    "    'apple',\n",
    "    'orange',\n",
    "    'grape',\n",
    "]"
   ]
  },
  {
   "cell_type": "markdown",
   "id": "ab0878ce",
   "metadata": {},
   "source": [
    "`list.sort(key=None, reverse=False)` sorts the items of the list in place. (The arguments can be used for sort customization, see `sorted()` for their explanation.)"
   ]
  },
  {
   "cell_type": "code",
   "execution_count": 71,
   "id": "7a38fa09",
   "metadata": {},
   "outputs": [],
   "source": [
    "fruits_copy.sort()\n",
    "assert fruits_copy == [\n",
    "    'apple',\n",
    "    'apple',\n",
    "    'banana',\n",
    "    'banana',\n",
    "    'grape',\n",
    "    'kiwi',\n",
    "    'orange',\n",
    "    'pear',\n",
    "]"
   ]
  },
  {
   "cell_type": "markdown",
   "id": "19d342d9",
   "metadata": {},
   "source": [
    "`list.pop([i])` removes the item at the given position in the list and returns it. If no index is specified, `a.pop()` removes and returns the last item in the list. (The square brackets around the `i` in the method signature denote that the parameter is optional, not that you should type square brackets at that position.)"
   ]
  },
  {
   "cell_type": "code",
   "execution_count": 72,
   "id": "a64b8296",
   "metadata": {},
   "outputs": [],
   "source": [
    "assert fruits == ['grape', 'orange', 'apple', 'pear', 'banana', 'kiwi', 'apple', 'banana']\n",
    "assert fruits.pop() == 'banana'\n",
    "assert fruits == ['grape', 'orange', 'apple', 'pear', 'banana', 'kiwi', 'apple']"
   ]
  },
  {
   "cell_type": "markdown",
   "id": "d0273d49",
   "metadata": {},
   "source": [
    "`list.clear()` removes all items from the list. Equivalent to `del a[:]`."
   ]
  },
  {
   "cell_type": "code",
   "execution_count": 73,
   "id": "41c689a7",
   "metadata": {},
   "outputs": [],
   "source": [
    "fruits.clear()\n",
    "assert fruits == []"
   ]
  },
  {
   "cell_type": "markdown",
   "id": "bd38375a",
   "metadata": {},
   "source": [
    "#### The del statement\n",
    "\n",
    "There is a way to remove an item from a list given its index instead of its value: the `del` statement. This differs from the `pop()` method which returns a value. The `del` statement can also be used to remove slices from a list or clear the entire list (which we did earlier by assignment of an empty list to the slice)."
   ]
  },
  {
   "cell_type": "code",
   "execution_count": 74,
   "id": "363c8481",
   "metadata": {},
   "outputs": [],
   "source": [
    "import pytest\n",
    "\n",
    "numbers = [-1, 1, 66.25, 333, 333, 1234.5]\n",
    "\n",
    "del numbers[0]\n",
    "assert numbers == [1, 66.25, 333, 333, 1234.5]\n",
    "\n",
    "del numbers[2:4]\n",
    "assert numbers == [1, 66.25, 1234.5]\n",
    "\n",
    "del numbers[:]\n",
    "assert numbers == []\n",
    "\n",
    "# del can also be used to delete entire variables:\n",
    "del numbers\n",
    "with pytest.raises(Exception):\n",
    "    # Referencing the name a hereafter is an error (at least until another\n",
    "    # value is assigned to it).\n",
    "    assert numbers == []  # noqa: F821"
   ]
  },
  {
   "cell_type": "markdown",
   "id": "61a4cba6",
   "metadata": {},
   "source": [
    "#### List comprehensions\n",
    "\n",
    "List comprehensions provide a concise way to create lists. Common applications are to make new lists where each element is the result of some operations applied to each member of another sequence or iterable or to create a subsequence of those elements that satisfy a certain condition. A list comprehension consists of brackets containing an expression followed by a for clause, then zero or more `for` or `if` clauses. The result will be a new list resulting from evaluating the expression in the context of the `for` and `if` clauses that follow it.\n",
    "\n",
    "For example, assume we want to create a list of squares, like:"
   ]
  },
  {
   "cell_type": "code",
   "execution_count": 75,
   "id": "81968083",
   "metadata": {},
   "outputs": [],
   "source": [
    "squares = []\n",
    "for number in range(10):\n",
    "    squares.append(number ** 2)\n",
    "\n",
    "assert squares == [0, 1, 4, 9, 16, 25, 36, 49, 64, 81]"
   ]
  },
  {
   "cell_type": "markdown",
   "id": "1f5e2933",
   "metadata": {},
   "source": [
    "Note that this creates (or overwrites) a variable named \"number\" that still exists after the loop completes. We can calculate the list of squares without any side effects using:"
   ]
  },
  {
   "cell_type": "code",
   "execution_count": 76,
   "id": "b540d737",
   "metadata": {},
   "outputs": [],
   "source": [
    "squares = list(map(lambda x: x ** 2, range(10)))\n",
    "assert squares == [0, 1, 4, 9, 16, 25, 36, 49, 64, 81]"
   ]
  },
  {
   "cell_type": "markdown",
   "id": "ee2436b9",
   "metadata": {},
   "source": [
    "Or, equivalently (which is more concise and readable):"
   ]
  },
  {
   "cell_type": "code",
   "execution_count": 77,
   "id": "d380d0ea",
   "metadata": {},
   "outputs": [],
   "source": [
    "squares = [x ** 2 for x in range(10)]\n",
    "assert squares == [0, 1, 4, 9, 16, 25, 36, 49, 64, 81]"
   ]
  },
  {
   "cell_type": "markdown",
   "id": "6793c345",
   "metadata": {},
   "source": [
    "For example, this list comprehension combines the elements of two lists if they are not equal:"
   ]
  },
  {
   "cell_type": "code",
   "execution_count": 78,
   "id": "45fd7eb4",
   "metadata": {},
   "outputs": [],
   "source": [
    "combinations = [(x, y) for x in [1, 2, 3] for y in [3, 1, 4] if x != y]\n",
    "assert combinations == [(1, 3), (1, 4), (2, 3), (2, 1), (2, 4), (3, 1), (3, 4)]"
   ]
  },
  {
   "cell_type": "markdown",
   "id": "10c066ed",
   "metadata": {},
   "source": [
    "And it’s equivalent to:"
   ]
  },
  {
   "cell_type": "code",
   "execution_count": 79,
   "id": "38c8c8c9",
   "metadata": {},
   "outputs": [],
   "source": [
    "combinations = []\n",
    "for first_number in [1, 2, 3]:\n",
    "    for second_number in [3, 1, 4]:\n",
    "        if first_number != second_number:\n",
    "            combinations.append((first_number, second_number))\n",
    "\n",
    "assert combinations == [(1, 3), (1, 4), (2, 3), (2, 1), (2, 4), (3, 1), (3, 4)]"
   ]
  },
  {
   "cell_type": "markdown",
   "id": "2424a1ea",
   "metadata": {},
   "source": [
    "Note how the order of the `for` and `if` statements is the same in both these snippets.\n",
    "\n",
    "If the expression is a tuple (e.g. the (x, y) in the previous example), it must be parenthesized. Let's see some more examples:"
   ]
  },
  {
   "cell_type": "code",
   "execution_count": 80,
   "id": "66769456",
   "metadata": {},
   "outputs": [],
   "source": [
    "vector = [-4, -2, 0, 2, 4]"
   ]
  },
  {
   "cell_type": "markdown",
   "id": "9052e898",
   "metadata": {},
   "source": [
    "Create a new list with the values doubled."
   ]
  },
  {
   "cell_type": "code",
   "execution_count": 81,
   "id": "b93b60f5",
   "metadata": {},
   "outputs": [],
   "source": [
    "doubled_vector = [x * 2 for x in vector]\n",
    "assert doubled_vector == [-8, -4, 0, 4, 8]"
   ]
  },
  {
   "cell_type": "markdown",
   "id": "a1f33071",
   "metadata": {},
   "source": [
    "Filter the list to exclude negative numbers."
   ]
  },
  {
   "cell_type": "code",
   "execution_count": 82,
   "id": "02a17b7b",
   "metadata": {},
   "outputs": [],
   "source": [
    "positive_vector = [x for x in vector if x >= 0]\n",
    "assert positive_vector == [0, 2, 4]"
   ]
  },
  {
   "cell_type": "markdown",
   "id": "ed07abe6",
   "metadata": {},
   "source": [
    "Apply a function to all the elements."
   ]
  },
  {
   "cell_type": "code",
   "execution_count": 83,
   "id": "a5c70712",
   "metadata": {},
   "outputs": [],
   "source": [
    "abs_vector = [abs(x) for x in vector]\n",
    "assert abs_vector == [4, 2, 0, 2, 4]"
   ]
  },
  {
   "cell_type": "markdown",
   "id": "d99cc763",
   "metadata": {},
   "source": [
    "Call a method on each element."
   ]
  },
  {
   "cell_type": "code",
   "execution_count": 84,
   "id": "72849377",
   "metadata": {},
   "outputs": [],
   "source": [
    "fresh_fruit = ['  banana', '  loganberry ', 'passion fruit  ']\n",
    "clean_fresh_fruit = [weapon.strip() for weapon in fresh_fruit]\n",
    "assert clean_fresh_fruit == ['banana', 'loganberry', 'passion fruit']"
   ]
  },
  {
   "cell_type": "markdown",
   "id": "87588196",
   "metadata": {},
   "source": [
    "Create a list of 2-tuples like (number, square)."
   ]
  },
  {
   "cell_type": "code",
   "execution_count": 85,
   "id": "bb933b46",
   "metadata": {},
   "outputs": [],
   "source": [
    "square_tuples = [(x, x ** 2) for x in range(6)]\n",
    "assert square_tuples == [(0, 0), (1, 1), (2, 4), (3, 9), (4, 16), (5, 25)]"
   ]
  },
  {
   "cell_type": "markdown",
   "id": "f62b3c4a",
   "metadata": {},
   "source": [
    "Flatten a list using a list comprehension with two `for`."
   ]
  },
  {
   "cell_type": "code",
   "execution_count": 86,
   "id": "42adf21c",
   "metadata": {},
   "outputs": [],
   "source": [
    "vector = [[1, 2, 3], [4, 5, 6], [7, 8, 9]]\n",
    "flatten_vector = [num for elem in vector for num in elem]\n",
    "assert flatten_vector == [1, 2, 3, 4, 5, 6, 7, 8, 9]"
   ]
  },
  {
   "cell_type": "markdown",
   "id": "4eadc170",
   "metadata": {},
   "source": [
    "#### Nested list comprehensions\n",
    "\n",
    "The initial expression in a list comprehension can be any arbitrary expression, including another list comprehension.\n",
    "\n",
    "Consider the following example of a 3x4 matrix implemented as a list of 3 lists of length 4:"
   ]
  },
  {
   "cell_type": "code",
   "execution_count": 87,
   "id": "167a8c04",
   "metadata": {},
   "outputs": [],
   "source": [
    "matrix = [\n",
    "    [1, 2, 3, 4],\n",
    "    [5, 6, 7, 8],\n",
    "    [9, 10, 11, 12],\n",
    "]"
   ]
  },
  {
   "cell_type": "markdown",
   "id": "564eb59e",
   "metadata": {},
   "source": [
    "The following list comprehension will transpose rows and columns:"
   ]
  },
  {
   "cell_type": "code",
   "execution_count": 88,
   "id": "027d4462",
   "metadata": {},
   "outputs": [],
   "source": [
    "transposed_matrix = [[row[i] for row in matrix] for i in range(4)]\n",
    "assert transposed_matrix == [\n",
    "    [1, 5, 9],\n",
    "    [2, 6, 10],\n",
    "    [3, 7, 11],\n",
    "    [4, 8, 12],\n",
    "]"
   ]
  },
  {
   "cell_type": "markdown",
   "id": "c4a59db8",
   "metadata": {},
   "source": [
    "As we saw in the previous section, the nested list comprehension is evaluated in the context of the for that follows it, so this example is equivalent to:"
   ]
  },
  {
   "cell_type": "code",
   "execution_count": 89,
   "id": "9e54e696",
   "metadata": {},
   "outputs": [],
   "source": [
    "transposed = []\n",
    "for i in range(4):\n",
    "    transposed.append([row[i] for row in matrix])\n",
    "\n",
    "assert transposed == [\n",
    "    [1, 5, 9],\n",
    "    [2, 6, 10],\n",
    "    [3, 7, 11],\n",
    "    [4, 8, 12],\n",
    "]"
   ]
  },
  {
   "cell_type": "markdown",
   "id": "7d5dec6e",
   "metadata": {},
   "source": [
    "Which, in turn, is the same as:"
   ]
  },
  {
   "cell_type": "code",
   "execution_count": 90,
   "id": "41cb1c56",
   "metadata": {},
   "outputs": [],
   "source": [
    "transposed = []\n",
    "for i in range(4):\n",
    "    # the following 3 lines implement the nested listcomp\n",
    "    transposed_row = []\n",
    "    for row in matrix:\n",
    "        transposed_row.append(row[i])\n",
    "    transposed.append(transposed_row)\n",
    "\n",
    "assert transposed == [\n",
    "    [1, 5, 9],\n",
    "    [2, 6, 10],\n",
    "    [3, 7, 11],\n",
    "    [4, 8, 12],\n",
    "]"
   ]
  },
  {
   "cell_type": "markdown",
   "id": "3406f0f6",
   "metadata": {},
   "source": [
    "In the real world, you should prefer built-in functions to complex flow statements. The `zip()` function would do a great job for this use case."
   ]
  },
  {
   "cell_type": "code",
   "execution_count": 91,
   "id": "3200d422",
   "metadata": {},
   "outputs": [],
   "source": [
    "assert list(zip(*matrix)) == [\n",
    "    (1, 5, 9),\n",
    "    (2, 6, 10),\n",
    "    (3, 7, 11),\n",
    "    (4, 8, 12),\n",
    "]"
   ]
  },
  {
   "cell_type": "markdown",
   "id": "f39fbca3",
   "metadata": {},
   "source": [
    "### Tuples\n",
    "\n",
    "A tuple is a collection that is ordered and unchangeable. In Python, tuples are written with\n",
    "round brackets.\n",
    "\n",
    "The Tuples have the following properties:\n",
    "\n",
    "- You cannot change values in a tuple.\n",
    "- You cannot remove items in a tuple.\n",
    "\n",
    "```{seealso}\n",
    "- https://www.w3schools.com/python/python_tuples.asp\n",
    "- https://docs.python.org/3/tutorial/datastructures.html#tuples-and-sequences\n",
    "```"
   ]
  },
  {
   "cell_type": "code",
   "execution_count": 92,
   "id": "189b5cfc",
   "metadata": {},
   "outputs": [],
   "source": [
    "import pytest\n",
    "\n",
    "fruits_tuple = (\"apple\", \"banana\", \"cherry\")\n",
    "\n",
    "assert isinstance(fruits_tuple, tuple)\n",
    "assert fruits_tuple[0] == \"apple\"\n",
    "assert fruits_tuple[1] == \"banana\"\n",
    "assert fruits_tuple[2] == \"cherry\""
   ]
  },
  {
   "cell_type": "markdown",
   "id": "72b1b030",
   "metadata": {},
   "source": [
    "You cannot change values in a tuple."
   ]
  },
  {
   "cell_type": "code",
   "execution_count": 93,
   "id": "7efbb4e5",
   "metadata": {},
   "outputs": [],
   "source": [
    "with pytest.raises(Exception):\n",
    "    # pylint: disable=unsupported-assignment-operation\n",
    "    fruits_tuple[0] = \"pineapple\""
   ]
  },
  {
   "cell_type": "markdown",
   "id": "b8ce5160",
   "metadata": {},
   "source": [
    "It is also possible to use the `tuple()` constructor to make a tuple (note the double round-brackets).\n",
    "\n",
    "The `len()` function returns the length of the tuple."
   ]
  },
  {
   "cell_type": "code",
   "execution_count": 94,
   "id": "369bb1c5",
   "metadata": {},
   "outputs": [],
   "source": [
    "fruits_tuple_via_constructor = tuple((\"apple\", \"banana\", \"cherry\"))\n",
    "\n",
    "assert isinstance(fruits_tuple_via_constructor, tuple)\n",
    "assert len(fruits_tuple_via_constructor) == 3"
   ]
  },
  {
   "cell_type": "markdown",
   "id": "36be0140",
   "metadata": {},
   "source": [
    "It is also possible to omit brackets when initializing tuples."
   ]
  },
  {
   "cell_type": "code",
   "execution_count": 95,
   "id": "5ec27a2b",
   "metadata": {},
   "outputs": [],
   "source": [
    "another_tuple = 12345, 54321, 'hello!'\n",
    "assert another_tuple == (12345, 54321, 'hello!')"
   ]
  },
  {
   "cell_type": "markdown",
   "id": "0382c55f",
   "metadata": {},
   "source": [
    "Tuples may be nested:"
   ]
  },
  {
   "cell_type": "code",
   "execution_count": 96,
   "id": "e7ac924f",
   "metadata": {},
   "outputs": [],
   "source": [
    "nested_tuple = another_tuple, (1, 2, 3, 4, 5)\n",
    "assert nested_tuple == ((12345, 54321, 'hello!'), (1, 2, 3, 4, 5))"
   ]
  },
  {
   "cell_type": "markdown",
   "id": "5a27fbc5",
   "metadata": {},
   "source": [
    "As you see, on output tuples are always enclosed in parentheses, so that nested tuples are interpreted correctly; they may be input with or without surrounding parentheses, although often parentheses are necessary anyway (if the tuple is part of a larger expression). It is not possible to assign to the individual items of a tuple, however, it is possible to create tuples that contain mutable objects, such as lists.\n",
    "\n",
    "A special problem is the construction of tuples containing 0 or 1 item: the syntax has some extra quirks to accommodate these. Empty tuples are constructed by an empty pair of parentheses; a tuple with one item is constructed by following a value with a comma (it is not sufficient to enclose a single value in parentheses). Ugly, but effective. For example:"
   ]
  },
  {
   "cell_type": "code",
   "execution_count": 97,
   "id": "838e4182",
   "metadata": {},
   "outputs": [],
   "source": [
    "empty_tuple = ()\n",
    "# pylint: disable=len-as-condition\n",
    "assert len(empty_tuple) == 0\n",
    "\n",
    "# pylint: disable=trailing-comma-tuple\n",
    "singleton_tuple = 'hello',  # <-- note trailing comma\n",
    "assert len(singleton_tuple) == 1\n",
    "assert singleton_tuple == ('hello',)"
   ]
  },
  {
   "cell_type": "markdown",
   "id": "96176f6e",
   "metadata": {},
   "source": [
    "The following example is called **tuple packing**:"
   ]
  },
  {
   "cell_type": "code",
   "execution_count": 98,
   "id": "45e83e85",
   "metadata": {},
   "outputs": [],
   "source": [
    "packed_tuple = 12345, 54321, 'hello!'"
   ]
  },
  {
   "cell_type": "markdown",
   "id": "7bef82a5",
   "metadata": {},
   "source": [
    "The reverse operation is also possible."
   ]
  },
  {
   "cell_type": "code",
   "execution_count": 99,
   "id": "99092cf0",
   "metadata": {},
   "outputs": [],
   "source": [
    "first_tuple_number, second_tuple_number, third_tuple_string = packed_tuple\n",
    "assert first_tuple_number == 12345\n",
    "assert second_tuple_number == 54321\n",
    "assert third_tuple_string == 'hello!'"
   ]
  },
  {
   "cell_type": "markdown",
   "id": "27d51832",
   "metadata": {},
   "source": [
    "This is called, appropriately enough, **sequence unpacking** and works for any sequence on the right-hand side. Sequence unpacking requires that there are as many variables on the left side of the equals sign as there are elements in the sequence. \n",
    "\n",
    "Note that multiple assignments are really just a combination of tuple packing and sequence unpacking.\n",
    "\n",
    "Data can be swapped from one variable to another in Python using tuples. This eliminates the need to use a 'temp' variable."
   ]
  },
  {
   "cell_type": "code",
   "execution_count": 100,
   "id": "8f102a21",
   "metadata": {},
   "outputs": [],
   "source": [
    "first_number = 123\n",
    "second_number = 456\n",
    "first_number, second_number = second_number, first_number\n",
    "\n",
    "assert first_number == 456\n",
    "assert second_number == 123"
   ]
  },
  {
   "cell_type": "markdown",
   "id": "b097aaea",
   "metadata": {},
   "source": [
    "### Sets and their methods\n",
    "\n",
    "A set is a collection that is unordered and unindexed.\n",
    "\n",
    "In Python, sets are written with `{}`.\n",
    "\n",
    "Set objects also support mathematical operations like union, intersection, difference, and symmetric difference.\n",
    "\n",
    "```{seealso}\n",
    "- https://www.w3schools.com/python/python_sets.asp\n",
    "- https://docs.python.org/3.7/tutorial/datastructures.html#sets\n",
    "```\n",
    "\n",
    "#### Set type"
   ]
  },
  {
   "cell_type": "code",
   "execution_count": 101,
   "id": "de790e33",
   "metadata": {},
   "outputs": [],
   "source": [
    "fruits_set = {\"apple\", \"banana\", \"cherry\"}\n",
    "\n",
    "assert isinstance(fruits_set, set)"
   ]
  },
  {
   "cell_type": "markdown",
   "id": "29d2052a",
   "metadata": {},
   "source": [
    "It is also possible to use the `set()` constructor to make a set. Note the `(())`."
   ]
  },
  {
   "cell_type": "code",
   "execution_count": 102,
   "id": "7d515d80",
   "metadata": {},
   "outputs": [],
   "source": [
    "fruits_set_via_constructor = set((\"apple\", \"banana\", \"cherry\"))\n",
    "\n",
    "assert isinstance(fruits_set_via_constructor, set)"
   ]
  },
  {
   "cell_type": "markdown",
   "id": "4fce7d2a",
   "metadata": {},
   "source": [
    "#### Set methods"
   ]
  },
  {
   "cell_type": "code",
   "execution_count": 103,
   "id": "e454f210",
   "metadata": {},
   "outputs": [],
   "source": [
    "fruits_set = {\"apple\", \"banana\", \"cherry\"}"
   ]
  },
  {
   "cell_type": "markdown",
   "id": "9f834c8e",
   "metadata": {},
   "source": [
    "You may check if the item is in set by using statement `in`."
   ]
  },
  {
   "cell_type": "code",
   "execution_count": 104,
   "id": "e47ab188",
   "metadata": {},
   "outputs": [],
   "source": [
    "assert \"apple\" in fruits_set\n",
    "assert \"pineapple\" not in fruits_set"
   ]
  },
  {
   "cell_type": "markdown",
   "id": "f661756d",
   "metadata": {},
   "source": [
    "Use the `len()` method to return the number of items."
   ]
  },
  {
   "cell_type": "code",
   "execution_count": 105,
   "id": "94e6daf7",
   "metadata": {},
   "outputs": [],
   "source": [
    "assert len(fruits_set) == 3"
   ]
  },
  {
   "cell_type": "markdown",
   "id": "93d1a226",
   "metadata": {},
   "source": [
    "You can use the `add()` object method to add an item."
   ]
  },
  {
   "cell_type": "code",
   "execution_count": 106,
   "id": "ef0fd436",
   "metadata": {},
   "outputs": [],
   "source": [
    "fruits_set.add(\"pineapple\")\n",
    "assert \"pineapple\" in fruits_set\n",
    "assert len(fruits_set) == 4"
   ]
  },
  {
   "cell_type": "markdown",
   "id": "9de10f13",
   "metadata": {},
   "source": [
    "Use `remove()` object method to remove an item."
   ]
  },
  {
   "cell_type": "code",
   "execution_count": 107,
   "id": "8736fa94",
   "metadata": {},
   "outputs": [],
   "source": [
    "fruits_set.remove(\"pineapple\")\n",
    "assert \"pineapple\" not in fruits_set\n",
    "assert len(fruits_set) == 3"
   ]
  },
  {
   "cell_type": "markdown",
   "id": "791f93cd",
   "metadata": {},
   "source": [
    "Demonstrate set operations on unique letters from two words:"
   ]
  },
  {
   "cell_type": "code",
   "execution_count": 108,
   "id": "6d74b2ae",
   "metadata": {},
   "outputs": [],
   "source": [
    "first_char_set = set('abracadabra')\n",
    "second_char_set = set('alacazam')\n",
    "\n",
    "assert first_char_set == {'a', 'r', 'b', 'c', 'd'}  # unique letters in first word\n",
    "assert second_char_set == {'a', 'l', 'c', 'z', 'm'}  # unique letters in second word"
   ]
  },
  {
   "cell_type": "markdown",
   "id": "8b6f69ff",
   "metadata": {},
   "source": [
    "Letters in the first word but not in second."
   ]
  },
  {
   "cell_type": "code",
   "execution_count": 109,
   "id": "e86c5ef0",
   "metadata": {},
   "outputs": [],
   "source": [
    "assert first_char_set - second_char_set == {'r', 'b', 'd'}"
   ]
  },
  {
   "cell_type": "markdown",
   "id": "ea794bf9",
   "metadata": {},
   "source": [
    "Letters in the first word or second word or both."
   ]
  },
  {
   "cell_type": "code",
   "execution_count": 110,
   "id": "2a09bb88",
   "metadata": {},
   "outputs": [],
   "source": [
    "assert first_char_set | second_char_set == {'a', 'c', 'r', 'd', 'b', 'm', 'z', 'l'}"
   ]
  },
  {
   "cell_type": "markdown",
   "id": "d2ebb0fd",
   "metadata": {},
   "source": [
    "Common letters in both words."
   ]
  },
  {
   "cell_type": "code",
   "execution_count": 111,
   "id": "89249d71",
   "metadata": {},
   "outputs": [],
   "source": [
    "assert first_char_set & second_char_set == {'a', 'c'}"
   ]
  },
  {
   "cell_type": "markdown",
   "id": "efbb5759",
   "metadata": {},
   "source": [
    "Letters in first or second word but not both."
   ]
  },
  {
   "cell_type": "code",
   "execution_count": 112,
   "id": "37bf4972",
   "metadata": {},
   "outputs": [],
   "source": [
    "assert first_char_set ^ second_char_set == {'r', 'd', 'b', 'm', 'z', 'l'}"
   ]
  },
  {
   "cell_type": "markdown",
   "id": "02fed3d0",
   "metadata": {},
   "source": [
    "Similarly to list comprehensions, set comprehensions are also supported:"
   ]
  },
  {
   "cell_type": "code",
   "execution_count": 113,
   "id": "3b61ae15",
   "metadata": {},
   "outputs": [],
   "source": [
    "word = {char for char in 'abracadabra' if char not in 'abc'}\n",
    "assert word == {'r', 'd'}"
   ]
  },
  {
   "cell_type": "markdown",
   "id": "290a8cd5",
   "metadata": {},
   "source": [
    "### Dictionaries\n",
    "\n",
    "A dictionary is a collection that is unordered, changeable and indexed. In Python, dictionaries are written with curly brackets, and they have keys and values.\n",
    "\n",
    "Dictionaries are sometimes found in other languages as “associative memories” or “associative arrays”. Unlike sequences, which are indexed by a range of numbers, dictionaries are indexed by keys, which can be any immutable type; strings and numbers can always be keys. Tuples can be used as keys if they contain only strings, numbers, or tuples; if a tuple contains any mutable object either directly or indirectly, it cannot be used as a key. You can’t use lists as keys, since lists can be modified in place using index assignments, slice assignments, or methods like `append()` and `extend()`.\n",
    "\n",
    "It is best to think of a dictionary as a set of key: value pairs, with the requirement that the keys are unique (within one dictionary). A pair of braces creates an empty dictionary: `{}`. Placing a comma-separated list of key-value pairs within the braces adds initial key-value pairs to the dictionary; this is also the way dictionaries are written on output.\n",
    "\n",
    "```{seealso}\n",
    "- https://docs.python.org/3/tutorial/datastructures.html#dictionaries\n",
    "- https://www.w3schools.com/python/python_dictionaries.asp\n",
    "```"
   ]
  },
  {
   "cell_type": "code",
   "execution_count": 114,
   "id": "b941d8c1",
   "metadata": {},
   "outputs": [],
   "source": [
    "fruits_dictionary = {\n",
    "    'cherry': 'red',\n",
    "    'apple': 'green',\n",
    "    'banana': 'yellow',\n",
    "}\n",
    "\n",
    "assert isinstance(fruits_dictionary, dict)"
   ]
  },
  {
   "cell_type": "markdown",
   "id": "e638a821",
   "metadata": {},
   "source": [
    "You may access set elements by keys."
   ]
  },
  {
   "cell_type": "code",
   "execution_count": 115,
   "id": "99a53134",
   "metadata": {},
   "outputs": [],
   "source": [
    "assert fruits_dictionary['apple'] == 'green'\n",
    "assert fruits_dictionary['banana'] == 'yellow'\n",
    "assert fruits_dictionary['cherry'] == 'red'"
   ]
  },
  {
   "cell_type": "markdown",
   "id": "c7fce800",
   "metadata": {},
   "source": [
    "To check whether a single key is in the dictionary, use the keyword `in`."
   ]
  },
  {
   "cell_type": "code",
   "execution_count": 116,
   "id": "3a3d8365",
   "metadata": {},
   "outputs": [],
   "source": [
    "assert 'apple' in fruits_dictionary\n",
    "assert 'pineapple' not in fruits_dictionary"
   ]
  },
  {
   "cell_type": "markdown",
   "id": "53c7b815",
   "metadata": {},
   "source": [
    "Change the apple color to \"red\"."
   ]
  },
  {
   "cell_type": "code",
   "execution_count": 117,
   "id": "add71bea",
   "metadata": {},
   "outputs": [],
   "source": [
    "fruits_dictionary['apple'] = 'red'"
   ]
  },
  {
   "cell_type": "markdown",
   "id": "f509aba0",
   "metadata": {},
   "source": [
    "Add new key/value pair to the dictionary."
   ]
  },
  {
   "cell_type": "code",
   "execution_count": 118,
   "id": "92acaf62",
   "metadata": {},
   "outputs": [],
   "source": [
    "fruits_dictionary['pineapple'] = 'yellow'\n",
    "assert fruits_dictionary['pineapple'] == 'yellow'"
   ]
  },
  {
   "cell_type": "markdown",
   "id": "d74418ba",
   "metadata": {},
   "source": [
    "Performing `list(d)` on a dictionary returns a list of all the keys used in the dictionary, in insertion order. (If you want it sorted, just use `sorted(d)` instead.)"
   ]
  },
  {
   "cell_type": "code",
   "execution_count": 119,
   "id": "4e9eb45d",
   "metadata": {},
   "outputs": [],
   "source": [
    "assert list(fruits_dictionary) == ['cherry', 'apple', 'banana', 'pineapple']\n",
    "assert sorted(fruits_dictionary) == ['apple', 'banana', 'cherry', 'pineapple']"
   ]
  },
  {
   "cell_type": "markdown",
   "id": "ece81f3a",
   "metadata": {},
   "source": [
    "It is also possible to delete a key-value pair with `del`."
   ]
  },
  {
   "cell_type": "code",
   "execution_count": 120,
   "id": "ad7fb559",
   "metadata": {},
   "outputs": [],
   "source": [
    "del fruits_dictionary['pineapple']\n",
    "assert list(fruits_dictionary) == ['cherry', 'apple', 'banana']"
   ]
  },
  {
   "cell_type": "markdown",
   "id": "23393825",
   "metadata": {},
   "source": [
    "The `dict()` constructor builds dictionaries directly from sequences of key-value pairs."
   ]
  },
  {
   "cell_type": "code",
   "execution_count": 121,
   "id": "b8e191b4",
   "metadata": {},
   "outputs": [],
   "source": [
    "dictionary_via_constructor = dict([('sape', 4139), ('guido', 4127), ('jack', 4098)])\n",
    "\n",
    "assert dictionary_via_constructor['sape'] == 4139\n",
    "assert dictionary_via_constructor['guido'] == 4127\n",
    "assert dictionary_via_constructor['jack'] == 4098"
   ]
  },
  {
   "cell_type": "markdown",
   "id": "5fe7c78e",
   "metadata": {},
   "source": [
    "In addition, dict comprehensions can be used to create dictionaries from arbitrary key and value expressions:"
   ]
  },
  {
   "cell_type": "code",
   "execution_count": 122,
   "id": "48d3e58b",
   "metadata": {},
   "outputs": [],
   "source": [
    "dictionary_via_expression = {x: x**2 for x in (2, 4, 6)}\n",
    "assert dictionary_via_expression[2] == 4\n",
    "assert dictionary_via_expression[4] == 16\n",
    "assert dictionary_via_expression[6] == 36"
   ]
  },
  {
   "cell_type": "markdown",
   "id": "3f6e66dc",
   "metadata": {},
   "source": [
    "When the keys are simple strings, it is sometimes easier to specify pairs using keyword arguments."
   ]
  },
  {
   "cell_type": "code",
   "execution_count": 123,
   "id": "48378437",
   "metadata": {},
   "outputs": [],
   "source": [
    "dictionary_for_string_keys = dict(sape=4139, guido=4127, jack=4098)\n",
    "assert dictionary_for_string_keys['sape'] == 4139\n",
    "assert dictionary_for_string_keys['guido'] == 4127\n",
    "assert dictionary_for_string_keys['jack'] == 4098"
   ]
  },
  {
   "cell_type": "markdown",
   "id": "92088d97",
   "metadata": {},
   "source": [
    "### Type casting\n",
    "\n",
    "There may be times when you want to specify a type to a variable. This can be done with **casting**. Python is an object-orientated language, and as such it uses classes to define data types, including its primitive types. Casting in Python is therefore done using constructor functions.\n",
    "\n",
    "- `int()` - constructs an integer number from an integer literal, a float literal (by rounding down\n",
    "to the previous whole number) literal, or a string literal (providing the string represents a\n",
    "whole number)\n",
    "- `float()` - constructs a float number from an integer literal, a float literal or a string literal\n",
    "(providing the string represents a float or an integer)\n",
    "- `str()` - constructs a string from a wide variety of data types, including strings, integer\n",
    "literals and float literals\n",
    "\n",
    "```{seealso}\n",
    "- https://www.w3schools.com/python/python_casting.asp\n",
    "```\n",
    "\n",
    "Type casting to integer."
   ]
  },
  {
   "cell_type": "code",
   "execution_count": 124,
   "id": "ec66476b",
   "metadata": {},
   "outputs": [],
   "source": [
    "assert int(1) == 1\n",
    "assert int(2.8) == 2\n",
    "assert int('3') == 3"
   ]
  },
  {
   "cell_type": "markdown",
   "id": "21d396aa",
   "metadata": {},
   "source": [
    "Type casting to float."
   ]
  },
  {
   "cell_type": "code",
   "execution_count": 125,
   "id": "7cd09606",
   "metadata": {},
   "outputs": [],
   "source": [
    "assert float(1) == 1.0\n",
    "assert float(2.8) == 2.8\n",
    "assert float(\"3\") == 3.0\n",
    "assert float(\"4.2\") == 4.2"
   ]
  },
  {
   "cell_type": "markdown",
   "id": "b1b81358",
   "metadata": {},
   "source": [
    "Type casting to string."
   ]
  },
  {
   "cell_type": "code",
   "execution_count": 126,
   "id": "b8405e13",
   "metadata": {},
   "outputs": [],
   "source": [
    "assert str(\"s1\") == 's1'\n",
    "assert str(2) == '2'\n",
    "assert str(3.0) == '3.0'"
   ]
  },
  {
   "cell_type": "markdown",
   "id": "9630f6f4",
   "metadata": {},
   "source": [
    "## Your turn! 🚀\n",
    "\n",
    "Practice the Python programming basics by following this [assignment](../assignments/prerequisites/python-programming-basics.ipynb).\n",
    "\n",
    "## Self study\n",
    "\n",
    "Here is a list of free/open source learning resources for advanced [Python programming](https://github.com/open-academy/open-learning-resources/blob/main/README.md#python).\n",
    "\n",
    "## Acknowledgments\n",
    "\n",
    "Thanks to [Oleksii Trekhleb](https://github.com/trekhleb) who helped create this awesome open source project [learn-python](https://github.com/trekhleb/learn-python) for Python learning. It contributes the majority of the content in this chapter."
   ]
  }
 ],
 "metadata": {
  "jupytext": {
   "cell_metadata_filter": "-all",
   "formats": "md:myst",
   "text_representation": {
    "extension": ".md",
    "format_name": "myst",
    "format_version": 0.13,
    "jupytext_version": "1.11.5"
   }
  },
  "kernelspec": {
   "display_name": "Python 3",
   "language": "python",
   "name": "python3"
  },
  "language_info": {
   "codemirror_mode": {
    "name": "ipython",
    "version": 3
   },
   "file_extension": ".py",
   "mimetype": "text/x-python",
   "name": "python",
   "nbconvert_exporter": "python",
   "pygments_lexer": "ipython3",
   "version": "3.9.15"
  },
  "source_map": [
   14,
   32,
   35,
   43,
   46,
   52,
   56,
   73,
   79,
   101,
   135,
   141,
   167,
   206,
   214,
   220,
   233,
   239,
   249,
   253,
   261,
   267,
   274,
   278,
   303,
   315,
   325,
   331,
   336,
   340,
   342,
   346,
   348,
   352,
   362,
   366,
   369,
   373,
   376,
   380,
   384,
   396,
   400,
   404,
   407,
   411,
   415,
   419,
   422,
   426,
   429,
   433,
   443,
   449,
   454,
   458,
   464,
   468,
   471,
   475,
   477,
   481,
   484,
   488,
   490,
   494,
   496,
   500,
   502,
   506,
   508,
   512,
   514,
   518,
   520,
   524,
   526,
   530,
   532,
   536,
   538,
   542,
   544,
   548,
   551,
   555,
   558,
   562,
   565,
   569,
   572,
   584,
   587,
   591,
   600,
   606,
   608,
   612,
   615,
   619,
   626,
   630,
   638,
   642,
   647,
   651,
   655,
   673,
   677,
   681,
   685,
   690,
   692,
   696,
   698,
   702,
   706,
   710,
   714,
   718,
   724,
   728,
   731,
   735,
   738,
   742,
   749,
   753,
   757,
   761,
   767,
   771,
   774,
   778,
   786,
   790,
   793,
   797,
   800,
   804,
   816,
   820,
   832,
   836,
   840,
   844,
   847,
   853,
   873,
   881,
   887,
   891,
   894,
   898,
   901,
   905,
   908,
   912,
   920,
   926,
   928,
   932,
   935,
   939,
   942,
   946,
   949,
   953,
   957,
   961,
   964,
   968,
   972,
   980,
   986,
   990,
   998,
   1002,
   1013,
   1017,
   1032,
   1036,
   1043,
   1060,
   1069,
   1073,
   1077,
   1083,
   1088,
   1092,
   1095,
   1099,
   1102,
   1108,
   1117,
   1121,
   1123,
   1127,
   1132,
   1140,
   1147,
   1164,
   1168,
   1172,
   1176,
   1180,
   1182,
   1186,
   1189,
   1193,
   1195,
   1199,
   1203,
   1207,
   1211,
   1215,
   1221,
   1225,
   1227,
   1231,
   1233,
   1237,
   1239,
   1243,
   1245,
   1249,
   1252,
   1267,
   1275,
   1279,
   1283,
   1287,
   1290,
   1294,
   1296,
   1300,
   1303,
   1307,
   1310,
   1314,
   1317,
   1321,
   1327,
   1331,
   1336,
   1340,
   1345,
   1365,
   1369,
   1373,
   1378,
   1382,
   1386
  ]
 },
 "nbformat": 4,
 "nbformat_minor": 5
}